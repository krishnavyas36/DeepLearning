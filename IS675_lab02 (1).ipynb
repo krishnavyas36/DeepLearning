{
  "nbformat": 4,
  "nbformat_minor": 0,
  "metadata": {
    "colab": {
      "provenance": [],
      "toc_visible": true
    },
    "kernelspec": {
      "name": "python3",
      "display_name": "Python 3"
    },
    "language_info": {
      "name": "python"
    }
  },
  "cells": [
    {
      "cell_type": "markdown",
      "metadata": {
        "id": "_YEHhu06X2im"
      },
      "source": [
        "#IS 675 Lab 2: Data and model understanding\n",
        "\n",
        "---"
      ]
    },
    {
      "cell_type": "markdown",
      "metadata": {
        "id": "6jFjFMqAX-yp"
      },
      "source": [
        "This data set contains information of cars purchased at the Auction.\n",
        "<br>\n",
        "We will use this file to predict the quality of buying decisions and visualize decision processes.\n",
        "<br>\n",
        "<br>\n",
        "VARIABLE DESCRIPTIONS:<br>\n",
        "Auction: Auction provider at which the  vehicle was purchased<br>\n",
        "Color: Vehicle Color<br>\n",
        "IsBadBuy: Identifies if the kicked vehicle was an avoidable purchase<br>\n",
        "MMRCurrentAuctionAveragePrice: Acquisition price for this vehicle in average condition as of current day<br>\n",
        "Size: The size category of the vehicle (Compact, SUV, etc.)<br>\n",
        "TopThreeAmericanName:Identifies if the manufacturer is one of the top three American manufacturers<br>\n",
        "VehBCost: Acquisition cost paid for the vehicle at time of purchase<br>\n",
        "VehicleAge: The Years elapsed since the manufacturer's year<br>\n",
        "VehOdo: The vehicles odometer reading<br>\n",
        "WarrantyCost: Warranty price (term=36month  and millage=36K)<br>\n",
        "WheelType: The vehicle wheel type description (Alloy, Covers)<br>\n",
        "<br>\n",
        "Target variable: **IsBadBuy**"
      ]
    },
    {
      "cell_type": "markdown",
      "metadata": {
        "id": "D6UCBjrtG-g6"
      },
      "source": [
        "###1. Upload, understand, and clean data"
      ]
    },
    {
      "cell_type": "code",
      "metadata": {
        "id": "nkqDo5OuHCQ8"
      },
      "source": [
        "# Mounting Google Drive\n",
        "from google.colab import drive\n",
        "drive.mount('/content/drive')"
      ],
      "execution_count": null,
      "outputs": []
    },
    {
      "cell_type": "code",
      "metadata": {
        "id": "4db5s5prM1z8"
      },
      "source": [
        "# Import libraries\n",
        "import pandas as pd\n",
        "from sklearn.model_selection import train_test_split\n",
        "from matplotlib import pyplot as plt\n",
        "from sklearn import tree\n",
        "from sklearn.tree import DecisionTreeClassifier\n",
        "#from sklearn.metrics import plot_confusion_matrix\n",
        "from sklearn.metrics import classification_report\n",
        "import matplotlib.pyplot as plt\n",
        "import seaborn as sns\n",
        "from sklearn.metrics import confusion_matrix"
      ],
      "execution_count": 209,
      "outputs": []
    },
    {
      "cell_type": "code",
      "metadata": {
        "id": "Z7vBYMeBG0ZE"
      },
      "source": [
        "# Read data\n",
        "car_kick = pd.read_csv(\"/content/drive/MyDrive/IS675_data/car_kick.csv\")\n",
        "car_kick"
      ],
      "execution_count": null,
      "outputs": []
    },
    {
      "cell_type": "code",
      "source": [
        "car_kick.keys()"
      ],
      "metadata": {
        "id": "k3OAWt9bpkK2"
      },
      "execution_count": null,
      "outputs": []
    },
    {
      "cell_type": "code",
      "source": [
        "# Select the desired columns only\n",
        "desired_columns = ['Auction', 'Color', 'IsBadBuy', 'MMRCurrentAuctionAveragePrice', 'Size','TopThreeAmericanName',\n",
        "'VehBCost', 'VehicleAge', 'VehOdo', 'WarrantyCost', 'WheelType']\n",
        "carAuction = car_kick [desired_columns]"
      ],
      "metadata": {
        "id": "FRRyaQxPoKI-"
      },
      "execution_count": 213,
      "outputs": []
    },
    {
      "cell_type": "code",
      "metadata": {
        "id": "LiI3pabsNeRG"
      },
      "source": [
        "# Show the head rows of a data frame\n",
        "carAuction.head()"
      ],
      "execution_count": null,
      "outputs": []
    },
    {
      "cell_type": "code",
      "source": [
        "# Examine missing values again\n",
        "carAuction.isnull().sum()"
      ],
      "metadata": {
        "id": "ZbbwNNMX_oah"
      },
      "execution_count": null,
      "outputs": []
    },
    {
      "cell_type": "code",
      "metadata": {
        "id": "Sxp6-L5nNeRH"
      },
      "source": [
        "# Examine variable type\n",
        "carAuction.dtypes"
      ],
      "execution_count": null,
      "outputs": []
    },
    {
      "cell_type": "code",
      "source": [
        "# Replacing 1 with Yes and 0 with No in the target column IsBadBuy\n",
        "carAuction['IsBadBuy'] = carAuction['IsBadBuy'].replace({1:'Yes', 0:'No'})"
      ],
      "metadata": {
        "id": "cghDVIfTrexW"
      },
      "execution_count": null,
      "outputs": []
    },
    {
      "cell_type": "code",
      "metadata": {
        "id": "0Tdv67wRNeRH"
      },
      "source": [
        "# Change categorical variables to \"category\"\n",
        "carAuction['Auction'] = carAuction['Auction'].astype('category')\n",
        "carAuction['Color'] = carAuction['Color'].astype('category')\n",
        "carAuction['IsBadBuy'] = carAuction['IsBadBuy'].astype('category')\n",
        "carAuction['Size'] = carAuction['Size'].astype('category')\n",
        "carAuction['TopThreeAmericanName'] = carAuction['TopThreeAmericanName'].astype('category')\n",
        "carAuction['WheelType'] = carAuction['WheelType'].astype('category')"
      ],
      "execution_count": null,
      "outputs": []
    },
    {
      "cell_type": "code",
      "metadata": {
        "id": "UPWSMKGRpWAj"
      },
      "source": [
        "# Examine variable type\n",
        "carAuction.dtypes"
      ],
      "execution_count": null,
      "outputs": []
    },
    {
      "cell_type": "code",
      "source": [
        "# Display all numeric variables\n",
        "carAuction.select_dtypes(include=['number'])"
      ],
      "metadata": {
        "id": "id3PBMveAIio"
      },
      "execution_count": null,
      "outputs": []
    },
    {
      "cell_type": "code",
      "source": [
        "# Display all categorical variables\n",
        "carAuction.select_dtypes(include=['category'])"
      ],
      "metadata": {
        "id": "JIQRxblcANn4"
      },
      "execution_count": null,
      "outputs": []
    },
    {
      "cell_type": "code",
      "metadata": {
        "id": "cisM2u5TO1vI"
      },
      "source": [
        "# Show the statistics of VehOdo\n",
        "carAuction['VehOdo'].describe()"
      ],
      "execution_count": null,
      "outputs": []
    },
    {
      "cell_type": "code",
      "metadata": {
        "id": "9RZDlCAnO1vJ"
      },
      "source": [
        "# Obtain the variance, standard deviation, and range of WarrantyCost\n",
        "print(\"variance: \", carAuction['WarrantyCost'].var(), \"standard deviation: \", carAuction['WarrantyCost'].std(), \"range: \", carAuction['WarrantyCost'].min(), carAuction['WarrantyCost'].max())"
      ],
      "execution_count": null,
      "outputs": []
    },
    {
      "cell_type": "code",
      "metadata": {
        "id": "A9afQglaO1vK"
      },
      "source": [
        "# Display the IQR of WarrantyCost\n",
        "IQR = carAuction['WarrantyCost'].quantile(0.75) - carAuction['WarrantyCost'].quantile(0.25)\n",
        "print(\"IQR:\", IQR)"
      ],
      "execution_count": null,
      "outputs": []
    },
    {
      "cell_type": "code",
      "metadata": {
        "id": "RJCsZLiaO1vK"
      },
      "source": [
        "# Boxplot of a numeric variable: VehBCost\n",
        "snsplot = sns.boxplot(x='VehBCost', data = carAuction)\n",
        "snsplot.set_title(\"Boxplot of VehBCost in the carAuction data set\")"
      ],
      "execution_count": null,
      "outputs": []
    },
    {
      "cell_type": "code",
      "metadata": {
        "id": "EH8LDN3gO1vK"
      },
      "source": [
        "# Boxplot of a numeric variable: VehicleAge\n",
        "snsplot = sns.boxplot(x='VehicleAge', data = carAuction)\n",
        "snsplot.set_title(\"Boxplot of VehicleAge in the carAuction data set\")"
      ],
      "execution_count": null,
      "outputs": []
    },
    {
      "cell_type": "code",
      "metadata": {
        "id": "4eE0QUyqO1vL"
      },
      "source": [
        "# Histogram of a numeric variable: VehOdo\n",
        "snsplot = sns.histplot(x='VehOdo', data = carAuction)\n",
        "snsplot.set_title(\"Histogram of VehOdo in the carAuction data set\")"
      ],
      "execution_count": null,
      "outputs": []
    },
    {
      "cell_type": "markdown",
      "metadata": {
        "id": "ogdGMqz6J8ct"
      },
      "source": [
        "###3. Understanding a single variable: categorical variables"
      ]
    },
    {
      "cell_type": "code",
      "metadata": {
        "id": "JLMdEmJpQ8DE"
      },
      "source": [
        "# Display the number of cars in different WheelType\n",
        "carAuction['WheelType'].value_counts()"
      ],
      "execution_count": null,
      "outputs": []
    },
    {
      "cell_type": "code",
      "metadata": {
        "id": "W0S15GeqRc7E"
      },
      "source": [
        "# Display the proportion of cars in different WheelType\n",
        "carAuction['WheelType'].value_counts(normalize=True)"
      ],
      "execution_count": null,
      "outputs": []
    },
    {
      "cell_type": "code",
      "metadata": {
        "id": "-haWBLe8RdkD"
      },
      "source": [
        "# Plot a categorical variable: WheelType\n",
        "snsplot = sns.countplot(x='WheelType', data=carAuction)\n",
        "snsplot.set_title(\"Countplot of WheelType in the carAuction data set\")"
      ],
      "execution_count": null,
      "outputs": []
    },
    {
      "cell_type": "markdown",
      "metadata": {
        "id": "axTcyZgyKBYP"
      },
      "source": [
        "### 4. Understand relationships of multiple variables"
      ]
    },
    {
      "cell_type": "code",
      "metadata": {
        "id": "Mr8IPCIjR8AP"
      },
      "source": [
        "# scatter plot two numeric variables: VehBCost and MMRCurrentAuctionAveragePrice\n",
        "snsplot = sns.scatterplot(x='VehBCost', y= 'MMRCurrentAuctionAveragePrice', data=carAuction)\n",
        "snsplot.set_title(\"Scatterplot of VehBCost and MMRCurrentAuctionAveragePrice\")"
      ],
      "execution_count": null,
      "outputs": []
    },
    {
      "cell_type": "code",
      "metadata": {
        "id": "6NiNOmvFR8AQ"
      },
      "source": [
        "# Generate correlation coefficients of two numeric variables in a 2x2 matrix: VehBCost and MMRCurrentAuctionAveragePrice\n",
        "carAuction[['VehBCost','MMRCurrentAuctionAveragePrice']].corr()"
      ],
      "execution_count": null,
      "outputs": []
    },
    {
      "cell_type": "code",
      "metadata": {
        "id": "3k_QaE6IR8AQ"
      },
      "source": [
        "# Generate the correlation matrix of all numeric variables\n",
        "carAuction.corr()"
      ],
      "execution_count": null,
      "outputs": []
    },
    {
      "cell_type": "code",
      "metadata": {
        "id": "x-MSrnfsR8AQ"
      },
      "source": [
        "# Examine relationships between numeric and categorical variables: boxplot VehBCost based on IsBadBuy\n",
        "snsplot = sns.boxplot(x='VehBCost', y= 'IsBadBuy', data = carAuction)\n",
        "snsplot.set_title(\"Boxplot of VehBCost based on IsBadBuy\")"
      ],
      "execution_count": null,
      "outputs": []
    },
    {
      "cell_type": "markdown",
      "metadata": {
        "id": "a3baHs-sknIT"
      },
      "source": [
        "###5. Partition the data set for Decision Tree model"
      ]
    },
    {
      "cell_type": "code",
      "metadata": {
        "id": "PGheFILukrMR"
      },
      "source": [
        "# Create dummy variables (0.5 pts)\n",
        "carAuction = pd.get_dummies(carAuction, columns=['Auction','Color','Size','TopThreeAmericanName','WheelType'], drop_first=True)\n",
        "carAuction"
      ],
      "execution_count": null,
      "outputs": []
    },
    {
      "cell_type": "code",
      "source": [
        "# Examine the porportion of target variable for data set\n",
        "target = carAuction['IsBadBuy']\n",
        "print(target.value_counts(normalize=True))"
      ],
      "metadata": {
        "id": "NoUvipgEvWH1"
      },
      "execution_count": null,
      "outputs": []
    },
    {
      "cell_type": "code",
      "metadata": {
        "id": "UfxzlCPBnZ-4"
      },
      "source": [
        "# Partition the data (0.5 pts)\n",
        "predictors = carAuction.drop(['IsBadBuy'],axis=1)\n",
        "predictors_train, predictors_test, target_train, target_test = train_test_split(predictors, target, test_size=0.3, random_state=0)\n",
        "print(predictors_train.shape, predictors_test.shape, target_train.shape, target_test.shape)"
      ],
      "execution_count": null,
      "outputs": []
    },
    {
      "cell_type": "code",
      "source": [
        "# Taking steps to balance the train data\n",
        "# Combine predictors_train and target_train into a single DataFrame\n",
        "combined_train_df = pd.concat([predictors_train, target_train], axis=1)\n",
        "\n",
        "# Separate majority and minority classes\n",
        "majority_df = combined_train_df[combined_train_df['IsBadBuy'] == 'No']\n",
        "minority_df = combined_train_df[combined_train_df['IsBadBuy'] == 'Yes']\n",
        "\n",
        "# Undersample the majority class randomly\n",
        "undersampled_majority = majority_df.sample(n=len(minority_df), random_state=62)\n",
        "\n",
        "# Combine the undersampled majority class and the minority class\n",
        "undersampled_data = pd.concat([undersampled_majority, minority_df])\n",
        "\n",
        "# Shuffle the combined DataFrame to ensure randomness\n",
        "balanced_data = undersampled_data.sample(frac=1, random_state=62)\n",
        "\n",
        "# Split the balanced_data into predictors_train and target_train\n",
        "predictors_train = balanced_data.drop(columns=['IsBadBuy'])\n",
        "target_train = balanced_data['IsBadBuy']"
      ],
      "metadata": {
        "id": "ioFmcYqZ0-6d"
      },
      "execution_count": 238,
      "outputs": []
    },
    {
      "cell_type": "code",
      "source": [
        "# Examine the porportion of target variable for train set\n",
        "print(target_train.value_counts(normalize=True), target_train.shape)"
      ],
      "metadata": {
        "id": "fUPnKp4z10Vc"
      },
      "execution_count": null,
      "outputs": []
    },
    {
      "cell_type": "code",
      "metadata": {
        "id": "MasSsm8apCG-"
      },
      "source": [
        "# Examine the porportion of target variable for testing data set (0.5 pts)\n",
        "print(target_test.value_counts(normalize=True))"
      ],
      "execution_count": null,
      "outputs": []
    },
    {
      "cell_type": "markdown",
      "metadata": {
        "id": "xt0XU6fmplzw"
      },
      "source": [
        "## 6. Decision Tree model prediction"
      ]
    },
    {
      "cell_type": "code",
      "metadata": {
        "id": "yi8FlSIQpB_X"
      },
      "source": [
        "# Build a decision tree model on training data with max_depth = 2 (0.5 pts)\n",
        "model = DecisionTreeClassifier(criterion = \"entropy\", random_state = 1, max_depth = 3)\n",
        "model.fit(predictors_train, target_train)"
      ],
      "execution_count": null,
      "outputs": []
    },
    {
      "cell_type": "code",
      "metadata": {
        "id": "2A9YDvIGp5KJ"
      },
      "source": [
        "# Plot the tree (0.5 pts)\n",
        "fig = plt.figure(figsize=(30,20))\n",
        "tree.plot_tree(model,\n",
        "               feature_names=list(predictors_train.columns),\n",
        "               class_names=['No','Yes'],\n",
        "               filled=True)"
      ],
      "execution_count": null,
      "outputs": []
    },
    {
      "cell_type": "code",
      "metadata": {
        "id": "1TS1FMtdtdlQ"
      },
      "source": [
        "# Text version of decision tree\n",
        "print(tree.export_text(model, feature_names=list(carAuction.columns)[1:]))"
      ],
      "execution_count": null,
      "outputs": []
    },
    {
      "cell_type": "markdown",
      "metadata": {
        "id": "J52hUfwmzTns"
      },
      "source": [
        "Q1. How many decision nodes and how many leaf nodes are in the tree?  (0.5 pts)<br>\n"
      ]
    },
    {
      "cell_type": "markdown",
      "metadata": {
        "id": "VKlc6vX60yQ8"
      },
      "source": [
        "Q2. Compare to a decision tree with 7 decision nodes and 8 leaf nodes, is it more or less complex? Give reasons for your answer. (1 pt)<br>\n"
      ]
    },
    {
      "cell_type": "markdown",
      "metadata": {
        "id": "DUnA9v16z0Ta"
      },
      "source": [
        "Q3. What is the predictor that first splits the tree? How the decision tree selects the first predictor to split? (1 pt)<br>\n"
      ]
    },
    {
      "cell_type": "markdown",
      "metadata": {
        "id": "yV_fZfEgz9kt"
      },
      "source": [
        "Q4. Find one path in the tree to a leaf node that is classified to IsBadBuy = 'Yes'. What is this path/rule's misclassification error rate? (1 pt)<br>"
      ]
    },
    {
      "cell_type": "code",
      "metadata": {
        "id": "s3BPoqH0tuDd"
      },
      "source": [
        "# Make predictions on testing data\n",
        "prediction_on_test = model.predict(predictors_test)"
      ],
      "execution_count": 246,
      "outputs": []
    },
    {
      "cell_type": "code",
      "metadata": {
        "id": "Mp2hbRzywpGd"
      },
      "source": [
        "# Examine the evaluation results on testing data: confusion_matrix\n",
        "\n",
        "#plot_confusion_matrix(model, predictors_test, target_test, cmap=plt.cm.Blues, values_format='d')\n",
        "\n",
        "# Compute confusion matrix\n",
        "cm = confusion_matrix(target_test, prediction_on_test)\n",
        "\n",
        "# Plot confusion matrix using Seaborn\n",
        "plt.figure(figsize=(8, 6))\n",
        "sns.heatmap(cm, annot=True, fmt='d', cmap='Blues', cbar=True)\n",
        "plt.title('Confusion Matrix')\n",
        "plt.xlabel('Predicted Label')\n",
        "plt.ylabel('True Label')\n",
        "plt.show()"
      ],
      "execution_count": null,
      "outputs": []
    },
    {
      "cell_type": "markdown",
      "metadata": {
        "id": "kVT5kkDQ1aen"
      },
      "source": [
        "Q5. On the testing set, how many bad buy cars are predicted as Not bad buy? (0.5 pts)<br>\n"
      ]
    },
    {
      "cell_type": "code",
      "metadata": {
        "id": "JnI7ioz-xBN0"
      },
      "source": [
        "# Examine the evaluation results on testing data: accuracy, precision, recall, and f1-score (0.5 pts)\n",
        "print(classification_report(target_test, prediction_on_test))"
      ],
      "execution_count": null,
      "outputs": []
    },
    {
      "cell_type": "markdown",
      "metadata": {
        "id": "ahgldnbVzVuI"
      },
      "source": [
        "Q6. Does the decision tree model have better performance on majority (IsBadBuy = 'No') or minority class (IsBadBuy = 'Yes')? why? (1 pt)<br>\n",
        "\n",
        "Q7. How do you evaluate the model? Is it good or bad? why? can we improve it? how? (2 pts)\n"
      ]
    },
    {
      "cell_type": "code",
      "metadata": {
        "id": "MNRp8uoa-0g0"
      },
      "source": [
        "!jupyter nbconvert --to html \"/content/drive/MyDrive/IS470_lab/IS675_lab02.ipynb\""
      ],
      "execution_count": null,
      "outputs": []
    }
  ]
}