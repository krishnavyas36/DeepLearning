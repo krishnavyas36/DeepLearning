{
  "nbformat": 4,
  "nbformat_minor": 0,
  "metadata": {
    "colab": {
      "provenance": [],
      "toc_visible": true
    },
    "kernelspec": {
      "name": "python3",
      "display_name": "Python 3"
    },
    "language_info": {
      "name": "python"
    }
  },
  "cells": [
    {
      "cell_type": "markdown",
      "metadata": {
        "id": "cRS1sr2oHxhv"
      },
      "source": [
        "**bold text**#IS 675 Lab 1: Introduction to Colab\n",
        "---\n",
        "\n"
      ]
    },
    {
      "cell_type": "markdown",
      "metadata": {
        "id": "pkM-HvqqdluY"
      },
      "source": [
        "# Part 1: Google Colab\n",
        "Google Colab is an executable document that allows you to write and execute Python in your browser. Colab connects your notebook to a cloud based runtime provided by Google.<br>\n",
        "<br>\n",
        "\n",
        "\n",
        "*   Notebook documents stored in Google Drive\n",
        "*   A notebook document is a list of cells\n",
        "\n"
      ]
    },
    {
      "cell_type": "markdown",
      "metadata": {
        "id": "zCb8_qMatg_T"
      },
      "source": [
        "## 1. Cells\n",
        "Colab has two types of cells: text and code. Click a cell to select it."
      ]
    },
    {
      "cell_type": "markdown",
      "metadata": {
        "id": "61byguqEhJEi"
      },
      "source": [
        "### 1.1 Text cells\n",
        "Text cells are formatted using a simple markup language called Markdown. Double-click to edit a text cell.<br>\n",
        "<br>\n",
        "Headings are rendered as titles.<br>\n",
        "\n",
        "\n",
        "*   \"# Section 1\"\n",
        "*   \"# Section 2\"\n",
        "*   \"## Sub-section under Section 2\"\n",
        "*   \"### Sub-section under the sub-section under Section 2\"\n",
        "<br>\n",
        "<br>\n",
        "\n",
        "The **table of contents**, available on the left side of Colab, can be used to navigate through the document.\n",
        "\n",
        "\n"
      ]
    },
    {
      "cell_type": "markdown",
      "metadata": {
        "id": "rCmZhnY9tmvM"
      },
      "source": [
        "### 1.2 Code cells\n",
        "Below is a code cell. You can click in the cell to select it and execute the Python codes in the following ways:\n",
        "\n",
        "* Click the **Play icon** in the left gutter of the cell;\n",
        "* Type **Cmd/Ctrl+Enter** to run the cell in place;"
      ]
    },
    {
      "cell_type": "code",
      "metadata": {
        "id": "aCqc8I6FnDDJ"
      },
      "source": [
        "print(\"IS675 lab1\")"
      ],
      "execution_count": null,
      "outputs": []
    },
    {
      "cell_type": "markdown",
      "metadata": {
        "id": "lVsRB844uASM"
      },
      "source": [
        "### 1.3 Adding, moving, and deleting cells\n",
        "You can add new cells by using the **+ CODE** and **+ TEXT** buttons that show when you hover between cells. These buttons are also in the toolbar above the notebook where they can be used to add a cell below the currently selected cell.\n",
        "\n",
        "You can move a cell by selecting it and clicking **Cell Up** or **Cell Down** in the toolbar.\n",
        "\n",
        "You can delete a cell by selecting it and clicking on the **Delete cell** button on the top-right corner of the cell."
      ]
    },
    {
      "cell_type": "markdown",
      "metadata": {
        "id": "rs1i7xsEoKGf"
      },
      "source": [
        "## 2. Save your notebook document\n",
        "\n",
        "\n",
        "*   File -> Save\n",
        "*   Type **Cmd/Ctrl+S**\n",
        "\n"
      ]
    },
    {
      "cell_type": "markdown",
      "metadata": {
        "id": "SzYPBUCJpdXw"
      },
      "source": [
        "## 3. Download your notebook document\n",
        "\n",
        "*   File -> Download -> Download .ipynb\n",
        "*   Download the file from Google Drive\n",
        "\n"
      ]
    },
    {
      "cell_type": "markdown",
      "metadata": {
        "id": "DrVCdIuZTZJ-"
      },
      "source": [
        "# Part 2: Basic operators and data structures in Python\n",
        "\n",
        "\n"
      ]
    },
    {
      "cell_type": "code",
      "metadata": {
        "id": "6j99MpIsHPf7"
      },
      "source": [
        "# Mounting Google Drive\n",
        "from google.colab import drive\n",
        "drive.mount('/content/drive')"
      ],
      "execution_count": null,
      "outputs": []
    },
    {
      "cell_type": "code",
      "metadata": {
        "id": "4FM3FiCKJjpg"
      },
      "source": [
        "# Import libraries\n",
        "import pandas as pd\n",
        "import seaborn as sns"
      ],
      "execution_count": null,
      "outputs": []
    },
    {
      "cell_type": "code",
      "metadata": {
        "id": "V-IiU92JI6Sf"
      },
      "source": [
        "# Read data (with assignment operator)\n",
        "pokemon = pd.read_csv('/content/drive/MyDrive/IS675_data/pokemon.csv')\n",
        "# pokemon is a dataframe\n",
        "pokemon"
      ],
      "execution_count": null,
      "outputs": []
    },
    {
      "cell_type": "code",
      "metadata": {
        "id": "O2MctaG4JR-9"
      },
      "source": [
        "# Examine the number of rows and cols\n",
        "pokemon.shape"
      ],
      "execution_count": null,
      "outputs": []
    },
    {
      "cell_type": "code",
      "metadata": {
        "id": "g1OnInGFc_42"
      },
      "source": [
        "# Show the head rows of a data frame\n",
        "pokemon.head()"
      ],
      "execution_count": null,
      "outputs": []
    },
    {
      "cell_type": "code",
      "metadata": {
        "id": "vqydxTSyiqGa"
      },
      "source": [
        "# Obtain the Attack value for every pokemon\n",
        "pokemon['Attack']"
      ],
      "execution_count": null,
      "outputs": []
    },
    {
      "cell_type": "code",
      "metadata": {
        "id": "Pq-v03psjLxi"
      },
      "source": [
        "# Obtain the Attack and Defense values for every pokemon\n",
        "pokemon[['Attack', 'Defense']]"
      ],
      "execution_count": null,
      "outputs": []
    },
    {
      "cell_type": "code",
      "metadata": {
        "id": "NTnfh9OUu6BS"
      },
      "source": [
        "# Extract the first row from data frame\n",
        "pokemon.iloc[0,:]"
      ],
      "execution_count": null,
      "outputs": []
    },
    {
      "cell_type": "code",
      "metadata": {
        "id": "Vshiadajv2uS"
      },
      "source": [
        "# Extract the last row from data frame\n",
        "pokemon.iloc[-1,:]"
      ],
      "execution_count": null,
      "outputs": []
    },
    {
      "cell_type": "code",
      "metadata": {
        "id": "J0SM3fc1v7GJ"
      },
      "source": [
        "# Extract the third column from data frame\n",
        "pokemon.iloc[:,2] # or pokemon['Type 1']"
      ],
      "execution_count": null,
      "outputs": []
    },
    {
      "cell_type": "code",
      "metadata": {
        "id": "1osGllSqwXfa"
      },
      "source": [
        "# Extract the last column from data frame\n",
        "pokemon.iloc[:,-1]"
      ],
      "execution_count": null,
      "outputs": []
    },
    {
      "cell_type": "code",
      "metadata": {
        "id": "SDl1S0s6wbwE"
      },
      "source": [
        "# Extract the first three columns from the data frame\n",
        "pokemon.iloc[:,0:3]"
      ],
      "execution_count": null,
      "outputs": []
    },
    {
      "cell_type": "code",
      "metadata": {
        "id": "0ahI_faNw74G"
      },
      "source": [
        "# Extract the value in the first row and fifth column of the data frame\n",
        "pokemon.iloc[0, 4]"
      ],
      "execution_count": null,
      "outputs": []
    },
    {
      "cell_type": "code",
      "metadata": {
        "id": "Sv_BVQ3nxXLX"
      },
      "source": [
        "# Histogram of Attack\n",
        "snsplot = sns.histplot(x='Attack', data = pokemon)\n",
        "snsplot.set_title(\"Histogram of Attack in the pokemon data set\")"
      ],
      "execution_count": null,
      "outputs": []
    },
    {
      "cell_type": "code",
      "metadata": {
        "id": "V8in_oktxmiX"
      },
      "source": [
        "# Plot a categorical variable: Legendary\n",
        "snsplot = sns.countplot(x='Legendary', data=pokemon)\n",
        "snsplot.set_title(\"Countplot of Legendary in the pokemon data set\")"
      ],
      "execution_count": null,
      "outputs": []
    },
    {
      "cell_type": "code",
      "metadata": {
        "id": "MNRp8uoa-0g0"
      },
      "source": [
        "!jupyter nbconvert --to html \"/content/drive/MyDrive/Colab Notebooks/IS675_lab1.ipynb\""
      ],
      "execution_count": null,
      "outputs": []
    }
  ]
}